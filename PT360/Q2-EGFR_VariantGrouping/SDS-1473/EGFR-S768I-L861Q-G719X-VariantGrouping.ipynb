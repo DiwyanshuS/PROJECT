{
 "cells": [
  {
   "cell_type": "markdown",
   "id": "2792291d",
   "metadata": {},
   "source": [
    "SDS-1473\n",
    "\n",
    "EGFR data to assign variant grouping to S768I, L861Q and G719X mutations"
   ]
  },
  {
   "cell_type": "code",
   "execution_count": 1,
   "id": "736f6d54",
   "metadata": {},
   "outputs": [],
   "source": [
    "import pandas as pd\n",
    "\n",
    "import warnings\n",
    "warnings.filterwarnings('ignore')"
   ]
  },
  {
   "cell_type": "code",
   "execution_count": 2,
   "id": "4d5f0b76",
   "metadata": {},
   "outputs": [],
   "source": [
    "#read the data present in csv file\n",
    "data = pd.read_csv(\"/Users/diwyanshu/Desktop/PROJECTS/PT360/EGFR/EGFR_Q2_allData.csv\", sep = ',', low_memory=False)\n",
    "\n",
    "#data.head()"
   ]
  },
  {
   "cell_type": "markdown",
   "id": "7c6c9856",
   "metadata": {},
   "source": [
    "EGFR Variant representative\n",
    "\n",
    "S768I - NC_000007.13:g.55249005G>T, ENST00000275493.2:c.2303G>T, NM_005228.4:c.2303G>T, NP_005219.2:p.Ser768Ile\n",
    "        p.S768I, c.2303G>T\n",
    "\n",
    "L861Q - NM_005228.4:c.2582T>A, NP_005219.2:p.Leu861Gln, NC_000007.13:g.55259524T>A, ENST00000275493.2:c.2582T>A\n",
    "        p.L861Q, c.2582T>A\n",
    "\n",
    "G719 - c.2156G>, p.Gly719, g.55241708G>\n",
    "        p.G719, c.2156G>"
   ]
  },
  {
   "cell_type": "code",
   "execution_count": 3,
   "id": "9fd34ccf",
   "metadata": {},
   "outputs": [],
   "source": [
    "#EGFR variant representative from PT360 dataset\n",
    "\n",
    "L861Q = [\"p.L861Q\", \"c.2582T>A;p.L861Q\", \"c.2582T>A;p.L816Q\",\n",
    "        \"L861Q\", \"c.2582T>A\", \"2582T>A\", \"p.Leu861Gln\", \"Leu861Gln\"] #last row :additional singature added\n",
    "\n",
    "S768I = [\"p.S768I\", \"c.2303G>T;p.S768I\", \"c.2303C>T;p.S768I\", \"c.2305G>T;p.S768I\", \"c.2303G>T\",\n",
    "         \"c.2303 G>T(p.S7681)\", \"_S768I_;p.Ser768IIe\", \"Exon  20 S7681\",\n",
    "         \"S768I\", \"c.2303G>T\", \"2303G>T\", \"p.Ser768Ile\", \"Ser768Ile\" ] #last row :additional singature added\n",
    "\n",
    "G719X = [\"p.G719A\", \"p.G719S\", \"p.G719C\", \"p.G719X\", \"G719X\", \"c.2156G>C;p.G719A\", \"p.G719D\", \"c.2155G>T;p.G719C\",\n",
    "        \"c.2155G>A;p.G719S\", \"p.G719\", \"c.2156G>C\", \"Exon 18 G719\", \"c.2154_2155delinsTT;p.G719C\",\n",
    "        \"Exon 18 G719X\", \"G719X 18\", \"G719\", \"c.2155G>A;p.G719X\", \"Codon G719\", \"c.2155G>C;p.G719A\",\n",
    "        \"c.2155G>T;p.G719X\", \"EXON 18 - G719X\", \"2155>T (G719X)\", \"c.2156G>C;p.G719X\", \"Exon 18| G719\",\n",
    "        \"c.2154_2156delinsTGC;p.G719A\", \"exon 18 (G719X)\", \"(mutations at codon G719 in exon 18\", \"exon 18   G719X\",\n",
    "        \"Exons 18 (G719X)\", \"Exons 19(G719X)\", \"p.G719K\", \"p.G719*\"]\n"
   ]
  },
  {
   "cell_type": "code",
   "execution_count": 4,
   "id": "c6e9d92a",
   "metadata": {},
   "outputs": [
    {
     "data": {
      "text/plain": [
       "molecular_variant    Exon  20 S7681Exon 18 G719XG719X_S768I_;p.Ser7...\n",
       "count                                                              306\n",
       "dtype: object"
      ]
     },
     "execution_count": 4,
     "metadata": {},
     "output_type": "execute_result"
    }
   ],
   "source": [
    "#Filter applied: biomarker name = EGFR, test result name = poitive, negative and defined variant groups\n",
    "filtered_data = data[(data['biomarker_name_name'] == \"EGFR\") & (data['test_result_name'].isin(['Positive', 'Equivocal']))]\n",
    "filtered_data = filtered_data[filtered_data['molecular_variant'].isin(L861Q + S768I + G719X)]\n",
    "\n",
    "#total molecular variants post filter for which grouping is required\n",
    "filtered_data.groupby('molecular_variant').size().reset_index(name='count').sum()"
   ]
  },
  {
   "cell_type": "code",
   "execution_count": 5,
   "id": "81d061d3",
   "metadata": {},
   "outputs": [],
   "source": [
    "# assign variant group L861Q, S768I and G719 to column variant_grouping_name based on filtered data\n",
    "\n",
    "filtered_data.loc[filtered_data['molecular_variant'].isin(L861Q), 'variant_grouping_name'] = 'EGFR L861Q'\n",
    "filtered_data.loc[filtered_data['molecular_variant'].isin(S768I), 'variant_grouping_name'] = 'EGFR S768I'\n",
    "filtered_data.loc[filtered_data['molecular_variant'].isin(G719X), 'variant_grouping_name'] = 'EGFR G719X'\n",
    "\n",
    "#filtered_data.head()"
   ]
  },
  {
   "cell_type": "code",
   "execution_count": 6,
   "id": "9d31415f",
   "metadata": {},
   "outputs": [
    {
     "data": {
      "text/html": [
       "<div>\n",
       "<style scoped>\n",
       "    .dataframe tbody tr th:only-of-type {\n",
       "        vertical-align: middle;\n",
       "    }\n",
       "\n",
       "    .dataframe tbody tr th {\n",
       "        vertical-align: top;\n",
       "    }\n",
       "\n",
       "    .dataframe thead th {\n",
       "        text-align: right;\n",
       "    }\n",
       "</style>\n",
       "<table border=\"1\" class=\"dataframe\">\n",
       "  <thead>\n",
       "    <tr style=\"text-align: right;\">\n",
       "      <th></th>\n",
       "      <th>variant_grouping_name</th>\n",
       "      <th>count</th>\n",
       "    </tr>\n",
       "  </thead>\n",
       "  <tbody>\n",
       "    <tr>\n",
       "      <th>0</th>\n",
       "      <td>EGFR G719X</td>\n",
       "      <td>155</td>\n",
       "    </tr>\n",
       "    <tr>\n",
       "      <th>1</th>\n",
       "      <td>EGFR L861Q</td>\n",
       "      <td>80</td>\n",
       "    </tr>\n",
       "    <tr>\n",
       "      <th>2</th>\n",
       "      <td>EGFR S768I</td>\n",
       "      <td>71</td>\n",
       "    </tr>\n",
       "  </tbody>\n",
       "</table>\n",
       "</div>"
      ],
      "text/plain": [
       "  variant_grouping_name  count\n",
       "0            EGFR G719X    155\n",
       "1            EGFR L861Q     80\n",
       "2            EGFR S768I     71"
      ]
     },
     "execution_count": 6,
     "metadata": {},
     "output_type": "execute_result"
    }
   ],
   "source": [
    "# display the count of newly assigned variant grouping\n",
    "filtered_data.groupby('variant_grouping_name').size().reset_index(name='count')"
   ]
  },
  {
   "cell_type": "code",
   "execution_count": 7,
   "id": "361a9bbc",
   "metadata": {},
   "outputs": [
    {
     "data": {
      "text/plain": [
       "variant_grouping_name    EGFR G719XEGFR L861QEGFR S768I\n",
       "count                                               306\n",
       "dtype: object"
      ]
     },
     "execution_count": 7,
     "metadata": {},
     "output_type": "execute_result"
    }
   ],
   "source": [
    "# total sum\n",
    "filtered_data.groupby('variant_grouping_name').size().reset_index(name='count').sum()"
   ]
  },
  {
   "cell_type": "code",
   "execution_count": 8,
   "id": "233e00d5",
   "metadata": {},
   "outputs": [],
   "source": [
    "#apply changes to the csv file\n",
    "\n",
    "data.update(filtered_data)"
   ]
  },
  {
   "cell_type": "code",
   "execution_count": 9,
   "id": "d8c22b60",
   "metadata": {},
   "outputs": [],
   "source": [
    "# save the modified dataframe to the csv file\n",
    "data.to_csv(\"EGFR_Q2_allData_variant_grouping.csv\", index=False)"
   ]
  }
 ],
 "metadata": {
  "kernelspec": {
   "display_name": "Python 3 (ipykernel)",
   "language": "python",
   "name": "python3"
  },
  "language_info": {
   "codemirror_mode": {
    "name": "ipython",
    "version": 3
   },
   "file_extension": ".py",
   "mimetype": "text/x-python",
   "name": "python",
   "nbconvert_exporter": "python",
   "pygments_lexer": "ipython3",
   "version": "3.10.4"
  }
 },
 "nbformat": 4,
 "nbformat_minor": 5
}
